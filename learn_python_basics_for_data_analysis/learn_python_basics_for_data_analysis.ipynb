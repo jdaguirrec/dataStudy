{
 "cells": [
  {
   "attachments": {},
   "cell_type": "markdown",
   "metadata": {},
   "source": [
    "# Aprendamos Python\n",
    "\n",
    "## ¿Qué es Python?\n",
    "\n",
    "Python es un lenguaje de programación de propósito general (es decir que se puede hacer prácticamente de todo con python: Sitios web y aplicaciones tanto para dispositivos móviles como de escritorio, scripts personales, ciencia de datos y hasta videojuegos). Por ejemplo (La siguiente información toca indagarla un poquito porque no me consta jaja): \n",
    "\n",
    "- Instagram está hecho con el lenguaje Python (¿parcial o totalmente? No sé. Si les suena interesante lo pueden buscar).\n",
    "\n",
    "- Python es uno es los principales lenguajes usados por los ingenieros de Google.\n",
    "\n",
    "- Netflix usa python para construir sus algoritmos de programación. [Artículo](https://netflixtechblog.com/notebook-innovation-591ee3221233).\n",
    "\n",
    "- La aplicación de escritorio Dropbox fue desarrollada con python.\n",
    "\n",
    " - Reddit está hecho con Python.\n",
    "\n",
    "Nota: Cuando se trata de datos Python es el lenguaje más ampliamente utilizado, especialmente para procesamiento, manipulación de datos, visualización de datos, inteligencia artificial y desarrollo de algoritmos.\n",
    "\n",
    "Otra nota: Comunmente se usa Google colab o Anaconda para trabajar con Python y cuadernos de jupyter (jupyter notebooks) pero aquí vamos a usar visual studio code porque a muchos nos parece más chévere. \n",
    "\n",
    "Más notas. ¿Qué es Anaconda? Anaconda es una distribución científica de python que viene con un montonón de cosas instaladas de las cuales llegué a usar como 6, entonces no vale la pena a menos de que uno sepa muy poco o mucho.\n",
    "\n",
    "Y otra nota más: Python lo hizo un tal Guido van Rossum, nacido en paises bajos y tiene el título de BDFL (Benevolent Dictator for Life)\n",
    "\n",
    "## ¿Qué es Jupyter notebook?\n",
    "\n",
    "Es una interfaz web (aunque aquí no se nota) que permite almacenar código Python (R, Julia, entre otros...) y lo que sea que ese código haga (outputs, gráficas, tablas, etc.) y también texto formateado (Markdown) como el que estás leyendo ahora mismo.\n",
    "\n",
    "Sirve para que los usuarios creen y compartan documentos interactivos que contienen código dinámico, código ejecutáble, despliegue de contenido, documentación textual (como esto que lees) y ecuaciones.\n",
    "\n",
    "Entonceeeeees es muy bueno para hacer prototipos de código y analizar sus resultados que después uno pueda agregar a un proyecto principal.\n",
    "\n",
    "**Importante**: Hay dos tipos de celdas principales en los Jupyter notebook:\n",
    "\n",
    "- **Celdas de código**: Donde escribimos código.\n",
    "\n",
    "- **Celdas Marksown**: Donde escribimos texto formateado con links, imágenes y creo que hasta video. Se pueden escribir cosas muy bonitas en Markdown, para más información ChatGPT.\n",
    "\n",
    "**Podemos cambiar el tipo de celda a código si presioamos \"y\" estando sobre la celda pero no en modo de escritura y a texto con la letra \"m\" de la misma manera.**"
   ]
  },
  {
   "attachments": {},
   "cell_type": "markdown",
   "metadata": {},
   "source": [
    "## ChatGPT: Nuestro asistente personal.\n",
    "\n",
    "Reglas:\n",
    "\n",
    "- No se habla del club de la pelea.\n",
    "\n",
    "- Pregúntenle lo que sea pero **nunca le crean nada que no puedan confirmar por muy maravilloso que suene**. \n",
    "\n",
    "- Úsenlo principalmente como guía para sus necesidades operativas mientras se acostumbran (por ejemplo escribir algunos de sus códigos Python).\n",
    "\n",
    "¡Les va a ayudar a escribir código más bonito que el 99.9999% de la pobalción mundial! (Este dato me lo inventé yo pero en serio pueden hacer cosas muy elegantes)."
   ]
  },
  {
   "attachments": {},
   "cell_type": "markdown",
   "metadata": {},
   "source": [
    "# Ahora sí, empecemos"
   ]
  },
  {
   "cell_type": "code",
   "execution_count": 1,
   "metadata": {},
   "outputs": [
    {
     "name": "stdout",
     "output_type": "stream",
     "text": [
      "The Zen of Python, by Tim Peters\n",
      "\n",
      "Beautiful is better than ugly.\n",
      "Explicit is better than implicit.\n",
      "Simple is better than complex.\n",
      "Complex is better than complicated.\n",
      "Flat is better than nested.\n",
      "Sparse is better than dense.\n",
      "Readability counts.\n",
      "Special cases aren't special enough to break the rules.\n",
      "Although practicality beats purity.\n",
      "Errors should never pass silently.\n",
      "Unless explicitly silenced.\n",
      "In the face of ambiguity, refuse the temptation to guess.\n",
      "There should be one-- and preferably only one --obvious way to do it.\n",
      "Although that way may not be obvious at first unless you're Dutch.\n",
      "Now is better than never.\n",
      "Although never is often better than *right* now.\n",
      "If the implementation is hard to explain, it's a bad idea.\n",
      "If the implementation is easy to explain, it may be a good idea.\n",
      "Namespaces are one honking great idea -- let's do more of those!\n"
     ]
    }
   ],
   "source": [
    "import this"
   ]
  },
  {
   "attachments": {},
   "cell_type": "markdown",
   "metadata": {},
   "source": [
    "## Variables\n",
    "\n",
    "*Se lee aún más código que el que se escribe*\n",
    "\n",
    "Las variables son una de las cosas más importantes en todos los lenguajes de programación. Los conceptos de \"programación\" y \"variable\" van bien agarrados de la mano.\n",
    "\n",
    "__Básicamente las variables son cajitas que almacenan algún valor, el valor que contienen estas cajitas se puede cambiar de diversas maneras, por eso se llaman variables.__\n",
    "\n",
    "La mejor práctica es nombrar adecuadamente estas cajitas para que su contenido y su forma de manipulación sea lo más claro posible. [PEP-8](https://peps.python.org/pep-0008/#function-and-variable-names) es la convención recomendada por don Guido para uso internacional.\n",
    "\n",
    "__El tipo de dato de una variable define como se puede usar dicha variable, es decir, que se puede hacer con ella.__\n"
   ]
  },
  {
   "attachments": {},
   "cell_type": "markdown",
   "metadata": {},
   "source": [
    "# Tipos de datos de Python\n",
    "\n",
    "[Fuente: W3Schools](https://www.w3schools.com/python/python_datatypes.asp)\n",
    "```Python\n",
    "1. TIPO TEXTO: str\n",
    "2. TIPOS NUMÉRICOS: int, float, complex\n",
    "3. TIPO BOOLEANO: bool\n",
    "4. TIPOS DE SECUENCIA: list, tuple, range\n",
    "5. TIPO DE MAPEO: dict\n",
    "6. TIPOS DE CONJUNTO: set, frozenset\n",
    "7. TIPO None: NoneType\n",
    "8. TIPOS BINARIOS bytes, bytearray, memoryview\n",
    "\n",
    "Para saber el tipo de dato que contiente una variable llamada \"mi_variable\" podemos usamos el siguiente código:\n",
    "\n",
    "print(type(mi_variable))"
   ]
  },
  {
   "attachments": {},
   "cell_type": "markdown",
   "metadata": {},
   "source": [
    "## 1. Datos string (str)\n",
    "\n",
    "```Python\n",
    "\n",
    "Los datos string se declaran escribiendo cualquier cadena de caractéres dentro de comillas simples o comillas dobles o si queremos escribir varios renglones diferentes, podemos usar triple comilla doble.\n",
    "\n",
    "TODO LO QUE ESTÉ DENTRO DE COMILLAS PYTHON LO INTERPRETADO COMO UN DATO STRING\n",
    "\n",
    "La siguiente celda de código muestra tres ejemplos de cada una de las formas de declarar variables que contienen datos de tipo string."
   ]
  },
  {
   "cell_type": "code",
   "execution_count": 38,
   "metadata": {},
   "outputs": [
    {
     "name": "stdout",
     "output_type": "stream",
     "text": [
      "Sergio Castaño Giraldo\n",
      "Control Automático Educación\n",
      "\n",
      "1. Python\n",
      "2. Matlab\n",
      "3. MicroPython\n",
      "4. Arduino\n",
      "5. PIC\n",
      "6. Control de Procesos\n",
      "\n"
     ]
    }
   ],
   "source": [
    "# Tres variables de tipo string\n",
    "profesor = \"Sergio Castaño Giraldo\"\n",
    "\n",
    "web = 'Control Automático Educación'\n",
    "\n",
    "cursos = \"\"\"\n",
    "1. Python\n",
    "2. Matlab\n",
    "3. MicroPython\n",
    "4. Arduino\n",
    "5. PIC\n",
    "6. Control de Procesos\n",
    "\"\"\"\n",
    "\n",
    "print(profesor,'\\n',\n",
    "      web,'\\n',\n",
    "      cursos,\n",
    "      sep='')"
   ]
  },
  {
   "attachments": {},
   "cell_type": "markdown",
   "metadata": {},
   "source": [
    "## 2. Datos numéricos\n",
    "\n",
    "### 2.1 Datos enteros (int)\n",
    "\n",
    "```Python\n",
    "Los datos enteros se declaran simplemente escribiendo un número entero.\n",
    "\n",
    "Los siguientes son ejemplos de variables que contienen datos int."
   ]
  },
  {
   "cell_type": "code",
   "execution_count": 39,
   "metadata": {},
   "outputs": [
    {
     "name": "stdout",
     "output_type": "stream",
     "text": [
      "2021\n",
      "7\n",
      "26\n",
      "-5\n",
      "-45\n",
      "\n"
     ]
    }
   ],
   "source": [
    "# Variables de tipo entero\n",
    "year = 2021\n",
    "dia = 7\n",
    "edad = 26\n",
    "coordenada_x = -5\n",
    "coordenada_y = -45\n",
    "\n",
    "print(year,'\\n',\n",
    "      dia,'\\n',\n",
    "      edad,'\\n',\n",
    "      coordenada_x,'\\n',\n",
    "      coordenada_y,'\\n',\n",
    "      sep='')"
   ]
  },
  {
   "attachments": {},
   "cell_type": "markdown",
   "metadata": {},
   "source": [
    "### 2.2 Datos con parte decimal (float)\n",
    "\n",
    "````Python\n",
    "Los datos float se declaran escribiendo un número con punto decimal\n",
    "\n",
    "Los siguientes son ejemplos de variables que contienen datos float."
   ]
  },
  {
   "cell_type": "code",
   "execution_count": 40,
   "metadata": {},
   "outputs": [
    {
     "name": "stdout",
     "output_type": "stream",
     "text": [
      "3.1416\n",
      "1.84\n",
      "85.6\n",
      "-5.55\n",
      "26.0\n",
      "\n"
     ]
    }
   ],
   "source": [
    "# Variables de tipo float\n",
    "PI = 3.1416\n",
    "estatura = 1.84\n",
    "peso = 85.6\n",
    "temperatura = -5.55\n",
    "velocidad = 26.0\n",
    "\n",
    "print(PI,'\\n',\n",
    "      estatura,'\\n',\n",
    "      peso,'\\n',\n",
    "      temperatura,'\\n',\n",
    "      velocidad,'\\n',\n",
    "      sep='')"
   ]
  },
  {
   "attachments": {},
   "cell_type": "markdown",
   "metadata": {},
   "source": [
    "## 3. Datos booleanos (bool)\n",
    "\n",
    "```Python\n",
    "Solo son dos valores: \n",
    "True\n",
    "False\n",
    "\n",
    "Así, con mayúscula inicial.\n",
    "\n",
    "Yo diría que estos son de los datos más importantes porque los necesitaremos para hacer muchas operaciones lógicas, para usar condicionales (if, elif, else), para los ciclos while y para trabajar con dataframes de la librería Pandas.\n",
    "\n",
    "Miremos dos variables que contienen valores bool."
   ]
  },
  {
   "cell_type": "code",
   "execution_count": 41,
   "metadata": {},
   "outputs": [
    {
     "name": "stdout",
     "output_type": "stream",
     "text": [
      "True\n",
      "False\n",
      "\n"
     ]
    }
   ],
   "source": [
    "# 2 variables que contienen los valores\n",
    "# True y False respectivamente\n",
    "esta_frio = True\n",
    "es_bajo = False\n",
    "\n",
    "print(esta_frio,'\\n',\n",
    "      es_bajo,'\\n',\n",
    "      sep='')"
   ]
  },
  {
   "attachments": {},
   "cell_type": "markdown",
   "metadata": {},
   "source": [
    "## 4. Tipos de datos de secuencia\n",
    "\n",
    "### 4.1 Listas (list)\n",
    "\n",
    "```Python\n",
    "Las listas son conjuntos ordenados de datos, donde cada elemento de la lista va separado por coma. Las listas se declaran escribiendo los elementos dentro de corchetes. Por ejemplo: [elemento_1, elemento_2, ... , elemento_n] es una lista. \n",
    "\n",
    "Características de las listas:\n",
    "\n",
    "- Cada elemento puede ser de diferente tipo de dato (texto, numérico, booleano, listas, tuplas, diccionarios, etc).\n",
    "\n",
    "- Son ordenadas porque cada elemento tiene una posición específica definida. Por ejemplo en la lista anterior el elemento_1 está en la posición 0 (su índice es 0), el elemento_2 posee índice 1 y así sucesivamente.\n",
    "\n",
    "- Las listas son mutables, es decir que se pueden modificar, agregar o eliminar elementos.\n",
    "```\n",
    "[Recomendado para listas](https://ellibrodepython.com/listas-en-python)"
   ]
  },
  {
   "cell_type": "code",
   "execution_count": 3,
   "metadata": {},
   "outputs": [
    {
     "name": "stdout",
     "output_type": "stream",
     "text": [
      "[2, 3, 5, 7, 11, 13]\n",
      "['Lunes', 'Martes', 'Miércoles', 'Jueves', 'Viernes']\n",
      "['Lunes', 27, 'Octubre', 1997]\n",
      "[1, ['a', 'e', 'i', 'o', 'u'], 8.9, 'hola', True, False]\n",
      "\n"
     ]
    }
   ],
   "source": [
    "# Variables de tipo list\n",
    "primos = [2, 3, 5, 7, 11, 13]\n",
    "dias_laborables = [\"Lunes\", \"Martes\", \"Miércoles\", \"Jueves\", \"Viernes\"]\n",
    "fecha = [\"Lunes\", 27, \"Octubre\", 1997]\n",
    "lista_ejemplo = [1, ['a', 'e', 'i', 'o', 'u'], 8.9, 'hola', True, False]\n",
    "\n",
    "print(primos,'\\n',\n",
    "      dias_laborables,'\\n',\n",
    "      fecha,'\\n',\n",
    "      lista_ejemplo,'\\n',\n",
    "      sep='')"
   ]
  },
  {
   "attachments": {},
   "cell_type": "markdown",
   "metadata": {},
   "source": [
    "### 4.2 Tipo tupla (tuple)\n",
    "\n",
    "```Python\n",
    "Las tuplas son como las listas solo que después de que se declaran estas son inmutables (no las podemos modificar).\n",
    "```\n",
    "[Recomendado para tuplas](https://ellibrodepython.com/tuplas-python)\n",
    "\n",
    "```Python\n",
    "Las tuplas se declaran escribiendo los elementos separados por coma dentro de paréntesis (), también pueden declararse con solo separar los valores con coma sin necesidad de los paréntesis (python automáticamente toma esto como una tupla).\n"
   ]
  },
  {
   "cell_type": "code",
   "execution_count": 3,
   "metadata": {},
   "outputs": [
    {
     "name": "stdout",
     "output_type": "stream",
     "text": [
      "('apple', 'banana', 'cherry', 'apple', 'cherry')\n",
      "('abc', 3.4, True, 40, 'male')\n",
      "(1, 2, ('a', 'b'), 3)\n",
      "(3, 6, ['casa', 'barrio', 'ciudad', 56.87], 'pradera')\n",
      "\n"
     ]
    }
   ],
   "source": [
    "# Variables de tipo tuple\n",
    "frutas = (\"apple\", \"banana\", \"cherry\", \"apple\", \"cherry\")\n",
    "tupla_mixta = (\"abc\", 3.4, True, 40, \"male\")\n",
    "mas_tuplas = 1, 2, ('a', 'b'), 3 # Noten como se declaró esta tupla\n",
    "otra_tupla = 3, 6, ['casa', 'barrio', 'ciudad', 56.87], 'pradera'\n",
    "\n",
    "print(frutas,'\\n',\n",
    "      tupla_mixta,'\\n',\n",
    "      mas_tuplas,'\\n',\n",
    "      otra_tupla,'\\n',\n",
    "      sep='')"
   ]
  },
  {
   "attachments": {},
   "cell_type": "markdown",
   "metadata": {},
   "source": [
    "### Tipo rango (range)\n",
    "\n",
    "```Python\n",
    "Los rangos se declaran de la siguiente manera: range(comienzo, final, paso) o también range(numero) que por defecto empieza en cero y tiene un paso de una unidad. 'Los argumentos de la función range tienen que ser tipo int'.\n",
    "\n",
    "Esto genera una secuencia de valores con las características mencionadas.\n",
    "\n",
    "Cuando lo imprimimos no vemos como tal la secuencia. Para poder verla podemos usar un truco que veremos más adelante (ciclo for)."
   ]
  },
  {
   "cell_type": "code",
   "execution_count": 28,
   "metadata": {},
   "outputs": [],
   "source": [
    "# Variables de tipo range\n",
    "pares_desde_4_hasta_24 = range(4, 26, 2) \n",
    "\n",
    "digitos = range(10)"
   ]
  },
  {
   "attachments": {},
   "cell_type": "markdown",
   "metadata": {},
   "source": [
    "## 5 Tipo diccionario (dict)\n",
    "\n",
    "```Python\n",
    "Los diccionarios son colecciones de elementos donde cada elemento tiene una \"llave\" (key) y un \"valor\" (value).\n",
    "\n",
    "Los diccionarios se declaran con llaves {} y cada par llave-valor se separa con coma. Por ejemplo {key_1:value_1 , key_2:value_2,..., key_n:value_n}.\n",
    "\n",
    "Características de los diccionarios:\n",
    "\n",
    "- Son modificables (se pueden añadir o elimnar elementos).\n",
    "\n",
    "- Son indexados (se puede acceder a un valor que esté en el diccionario a través de su llave).\n",
    "\n",
    "- Se pueden anidar (se pueden meter diccionarios dentro de diccionarios)."
   ]
  },
  {
   "cell_type": "code",
   "execution_count": 18,
   "metadata": {},
   "outputs": [
    {
     "name": "stdout",
     "output_type": "stream",
     "text": [
      "{'Nombre': 'Sara', 'Edad': 27, 'Documento': 1003882}\n",
      "{1: 'primero', 2: 'segundo', 3: 'tercero', 4: 'cuarto', 5: 'quinto'}\n",
      "{'anidado1': {'a': 1, 'b': 2}, 'anidado2': {'a': 1, 'b': 2}}\n",
      "{'casa': 'Construcción cubierta destinada a ser habitada.', 'arar': 'Abrir surcos en la tierra con el arado para sembrar.', 'diafano': 'Que deja pasar la luz a través de sí casi en su totalidad.'}\n",
      "{'col_1': [2, 4, 6, 8], 'col_2': [1, 3, 5, 7], 'col_3': [11, 13, 17, 19]}\n",
      "\n"
     ]
    }
   ],
   "source": [
    "# Algunos diccionarios\n",
    "identificacion = {\"Nombre\": \"Sara\", \"Edad\": 27, \"Documento\": 1003882}\n",
    "\n",
    "puestos = {1:'primero',\n",
    "           2:'segundo',\n",
    "           3:'tercero',\n",
    "           4:'cuarto',\n",
    "           5:'quinto'}\n",
    "\n",
    "anidado = {'anidado1': {'a': 1, 'b': 2}, 'anidado2': {'a': 1, 'b': 2}}\n",
    "\n",
    "diccionario = {'casa':'Construcción cubierta destinada a ser habitada.',\n",
    "               'arar':'Abrir surcos en la tierra con el arado para sembrar.',\n",
    "               'diafano':'Que deja pasar la luz a través de sí casi en su totalidad.'}\n",
    "\n",
    "tabla = {'col_1': [2, 4, 6, 8], 'col_2': [1, 3, 5, 7], 'col_3': [11, 13, 17, 19]}\n",
    "\n",
    "print(identificacion,'\\n',\n",
    "      puestos,'\\n',\n",
    "      anidado,'\\n',\n",
    "      diccionario,'\\n',\n",
    "      tabla,'\\n',\n",
    "      sep='')"
   ]
  },
  {
   "attachments": {},
   "cell_type": "markdown",
   "metadata": {},
   "source": [
    "## Conjuntos (set)\n",
    "\n",
    "```Python\n",
    "Los conjuntos se declaran escribiendo los elementos dentro de llaves {}.\n",
    "\n",
    "Caractarística:\n",
    "\n",
    "- Los elementos no están ordenados. Los elementos no necesariamente se imprimen en el orden en que se declaró el conjunto.\n",
    "\n",
    "- No se repiten elementos.\n",
    "\n",
    "- No es indexable.\n",
    "\n",
    "- Se pueden agregar o eliminar elementos.\n",
    "\n",
    "- Se pueden aplicar las operaciones de conjuntos (unión, intersección, y otras)."
   ]
  },
  {
   "cell_type": "code",
   "execution_count": 56,
   "metadata": {},
   "outputs": [
    {
     "name": "stdout",
     "output_type": "stream",
     "text": [
      "{'o', 'a', 'u', 'i', 'e'}\n",
      "{True, 2, 'apple', 'banana', 'cherry'}\n",
      "{1, 33, 3, 4, 6, 11, 76, 24}\n",
      "{1, 6, 7, 9, 10, 11, 76, 12, 15}\n",
      "\n"
     ]
    }
   ],
   "source": [
    "# Algunos conjuntos\n",
    "vocales = {'i','o','a','e','i','o','e','i','u'} # Observe que al imprimir no se repiten elementos\n",
    "\n",
    "mi_conjunto = {\"apple\", \"banana\", \"cherry\", True, 1, 2} # True es equivalente a 1\n",
    "\n",
    "A = {1, 6, 76, 3, 6, 4, 11, 33, 24}\n",
    "\n",
    "B = {1, 7, 76, 6, 9, 10, 15, 12, 11}\n",
    "\n",
    "print(vocales,'\\n',\n",
    "      mi_conjunto, '\\n',\n",
    "      A, '\\n',\n",
    "      B,'\\n',\n",
    "      sep='')\n"
   ]
  },
  {
   "attachments": {},
   "cell_type": "markdown",
   "metadata": {},
   "source": [
    "# Funcionalidades de los tipos de datos\n",
    "\n",
    "```Python\n",
    "Cada uno de los tipos de datos explicados anteriormente poseen funcionalidades integradas que debemos conocer porque nos serán de utilidad en diversas situaciones.\n",
    "```\n",
    "## ¿Cómo sé cuales son las funcionalidades integradas de un tipo de dato?\n",
    "\n",
    "```Python\n",
    "Esto lo podemos hacer por medio de la función dir(objeto) la cual devuelve una lista con el direcctorio de funcionalidades integradas que posee el objeto. \n",
    "\n",
    "Nos fijaremos solamente en las funciones que no tienen guión bajo.\n",
    "```"
   ]
  },
  {
   "cell_type": "code",
   "execution_count": 78,
   "metadata": {},
   "outputs": [
    {
     "name": "stdout",
     "output_type": "stream",
     "text": [
      "string: ['capitalize', 'casefold', 'center', 'count', 'encode', 'endswith', 'expandtabs', 'find', 'format', 'format_map', 'index', 'isalnum', 'isalpha', 'isascii', 'isdecimal', 'isdigit', 'isidentifier', 'islower', 'isnumeric', 'isprintable', 'isspace', 'istitle', 'isupper', 'join', 'ljust', 'lower', 'lstrip', 'maketrans', 'partition', 'removeprefix', 'removesuffix', 'replace', 'rfind', 'rindex', 'rjust', 'rpartition', 'rsplit', 'rstrip', 'split', 'splitlines', 'startswith', 'strip', 'swapcase', 'title', 'translate', 'upper', 'zfill']\n",
      "int: ['as_integer_ratio', 'bit_length', 'conjugate', 'denominator', 'from_bytes', 'imag', 'numerator', 'real', 'to_bytes']\n",
      "float: ['as_integer_ratio', 'conjugate', 'fromhex', 'hex', 'imag', 'is_integer', 'real']\n",
      "bool: ['as_integer_ratio', 'bit_length', 'conjugate', 'denominator', 'from_bytes', 'imag', 'numerator', 'real', 'to_bytes']\n",
      "list: ['append', 'clear', 'copy', 'count', 'extend', 'index', 'insert', 'pop', 'remove', 'reverse', 'sort']\n",
      "tuple: ['count', 'index']\n",
      "range: ['count', 'index', 'start', 'step', 'stop']\n",
      "dict: ['clear', 'copy', 'fromkeys', 'get', 'items', 'keys', 'pop', 'popitem', 'setdefault', 'update', 'values']\n",
      "set: ['add', 'clear', 'copy', 'difference', 'difference_update', 'discard', 'intersection', 'intersection_update', 'isdisjoint', 'issubset', 'issuperset', 'pop', 'remove', 'symmetric_difference', 'symmetric_difference_update', 'union', 'update']\n",
      "\n"
     ]
    }
   ],
   "source": [
    "# Funcionalidades de los string\n",
    "print('string: ', [metodo for metodo in dir(str) if not metodo.startswith('_')],'\\n',\n",
    "      'int: ', [metodo for metodo in dir(int) if not metodo.startswith('_')],'\\n',\n",
    "      'float: ', [metodo for metodo in dir(float) if not metodo.startswith('_')],'\\n',\n",
    "      'bool: ', [metodo for metodo in dir(bool) if not metodo.startswith('_')],'\\n',\n",
    "      'list: ', [metodo for metodo in dir(list) if not metodo.startswith('_')],'\\n',\n",
    "      'tuple: ', [metodo for metodo in dir(tuple) if not metodo.startswith('_')],'\\n',\n",
    "      'range: ', [metodo for metodo in dir(range) if not metodo.startswith('_')],'\\n',\n",
    "      'dict: ', [metodo for metodo in dir(dict) if not metodo.startswith('_')],'\\n',\n",
    "      'set: ', [metodo for metodo in dir(set) if not metodo.startswith('_')],'\\n',\n",
    "      sep='')\n"
   ]
  },
  {
   "cell_type": "code",
   "execution_count": 70,
   "metadata": {},
   "outputs": [],
   "source": []
  },
  {
   "attachments": {
    "image.png": {
     "image/png": "[encoded data removed]"
    }
   },
   "cell_type": "markdown",
   "metadata": {},
   "source": [
    "![image.png](attachment:image.png)\n",
    "\n",
    "[Fuente](https://docs.python.org/3/library/functions.html)"
   ]
  }
 ],
 "metadata": {
  "kernelspec": {
   "display_name": "Python 3",
   "language": "python",
   "name": "python3"
  },
  "language_info": {
   "codemirror_mode": {
    "name": "ipython",
    "version": 3
   },
   "file_extension": ".py",
   "mimetype": "text/x-python",
   "name": "python",
   "nbconvert_exporter": "python",
   "pygments_lexer": "ipython3",
   "version": "3.9.12"
  },
  "orig_nbformat": 4
 },
 "nbformat": 4,
 "nbformat_minor": 2
}
