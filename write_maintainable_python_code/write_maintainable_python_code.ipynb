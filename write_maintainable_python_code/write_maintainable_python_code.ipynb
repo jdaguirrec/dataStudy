{
 "cells": [
  {
   "cell_type": "code",
   "execution_count": 1,
   "metadata": {},
   "outputs": [
    {
     "name": "stdout",
     "output_type": "stream",
     "text": [
      "1001\n",
      "Multiply two numbers.\n",
      " \n",
      "    Keyword arguments:\n",
      "    first -- the first multiplicand\n",
      "    second -- the second multiplicand (default 1)\n",
      "    \n"
     ]
    }
   ],
   "source": [
    "def multiply(first, second=1):\n",
    "    \"\"\"Multiply two numbers.\n",
    " \n",
    "    Keyword arguments:\n",
    "    first -- the first multiplicand\n",
    "    second -- the second multiplicand (default 1)\n",
    "    \"\"\"\n",
    "    return first * second\n",
    " \n",
    "print(multiply(13, 77))\n",
    "print(multiply.__doc__)"
   ]
  },
  {
   "cell_type": "code",
   "execution_count": 2,
   "metadata": {},
   "outputs": [],
   "source": [
    "def is_leap_year(year):\n",
    "    # Leap years are all multiples of 4\n",
    "    if year % 4 == 0:\n",
    "        # Centuries are not leap years except 1600, 2000, 2400, etc.\n",
    "        if year % 100 == 0:\n",
    "            return (year % 400 == 0)\n",
    "        else:\n",
    "            return True\n",
    "    return False"
   ]
  },
  {
   "cell_type": "code",
   "execution_count": null,
   "metadata": {},
   "outputs": [],
   "source": []
  }
 ],
 "metadata": {
  "kernelspec": {
   "display_name": "Python 3",
   "language": "python",
   "name": "python3"
  },
  "language_info": {
   "codemirror_mode": {
    "name": "ipython",
    "version": 3
   },
   "file_extension": ".py",
   "mimetype": "text/x-python",
   "name": "python",
   "nbconvert_exporter": "python",
   "pygments_lexer": "ipython3",
   "version": "3.9.12"
  },
  "orig_nbformat": 4
 },
 "nbformat": 4,
 "nbformat_minor": 2
}
