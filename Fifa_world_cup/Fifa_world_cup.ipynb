{
 "cells": [
  {
   "cell_type": "code",
   "execution_count": 1,
   "metadata": {},
   "outputs": [
    {
     "ename": "ModuleNotFoundError",
     "evalue": "No module named 'numpy'",
     "output_type": "error",
     "traceback": [
      "\u001b[1;31m---------------------------------------------------------------------------\u001b[0m",
      "\u001b[1;31mModuleNotFoundError\u001b[0m                       Traceback (most recent call last)",
      "Cell \u001b[1;32mIn[1], line 1\u001b[0m\n\u001b[1;32m----> 1\u001b[0m \u001b[39mimport\u001b[39;00m \u001b[39mnumpy\u001b[39;00m \u001b[39mas\u001b[39;00m \u001b[39mnp\u001b[39;00m\n\u001b[0;32m      2\u001b[0m \u001b[39mimport\u001b[39;00m \u001b[39mopendatasets\u001b[39;00m \u001b[39mas\u001b[39;00m \u001b[39mod\u001b[39;00m\n\u001b[0;32m      3\u001b[0m \u001b[39mimport\u001b[39;00m \u001b[39mpandas\u001b[39;00m \u001b[39mas\u001b[39;00m \u001b[39mpd\u001b[39;00m\n",
      "\u001b[1;31mModuleNotFoundError\u001b[0m: No module named 'numpy'"
     ]
    }
   ],
   "source": [
    "python.exe -m pip install --upgrade pip\n",
    "import numpy as np\n",
    "import opendatasets as od\n",
    "import pandas as pd\n",
    "import matplotlib.pyplot as plt\n",
    "import seaborn as sns\n",
    "import re\n",
    "from unidecode import unidecode"
   ]
  },
  {
   "cell_type": "code",
   "execution_count": null,
   "metadata": {},
   "outputs": [],
   "source": [
    "cadena_con_tildes = \"Canción con acentos y tildes\"\n",
    "cadena_sin_tildes = unidecode(cadena_con_tildes)\n",
    "\n",
    "print(cadena_sin_tildes)"
   ]
  },
  {
   "cell_type": "code",
   "execution_count": null,
   "metadata": {},
   "outputs": [],
   "source": [
    "# od.download(\"https://www.kaggle.com/datasets/shivd24coder/fifa-world-cup-dataset\")"
   ]
  },
  {
   "cell_type": "code",
   "execution_count": null,
   "metadata": {},
   "outputs": [],
   "source": [
    "attendence_df = pd.read_csv(r'fifa-world-cup-dataset\\attendence.csv')\n",
    "goals_df = pd.read_csv(r'fifa-world-cup-dataset\\Goals.csv')\n",
    "match_df = pd.read_csv(r'fifa-world-cup-dataset\\match.csv')\n",
    "team_df = pd.read_csv(r'fifa-world-cup-dataset\\Team.csv')\n",
    "\n",
    "print('Attendence\\n')\n",
    "print(attendence_df.info(),2*'\\n', 50*'*','\\n')\n",
    "print('Goals\\n')\n",
    "print(goals_df.info(), 2*'\\n', 50*'*','\\n')\n",
    "print('Match\\n')\n",
    "print(match_df.info(), 2*'\\n', 50*'*','\\n')\n",
    "print('Team\\n')\n",
    "print(team_df.info())"
   ]
  },
  {
   "cell_type": "code",
   "execution_count": null,
   "metadata": {},
   "outputs": [],
   "source": [
    "attendence_df.head()"
   ]
  },
  {
   "cell_type": "code",
   "execution_count": null,
   "metadata": {},
   "outputs": [],
   "source": [
    "goals_df.head()"
   ]
  },
  {
   "cell_type": "code",
   "execution_count": null,
   "metadata": {},
   "outputs": [],
   "source": [
    "match_df.head()"
   ]
  },
  {
   "cell_type": "code",
   "execution_count": null,
   "metadata": {},
   "outputs": [],
   "source": [
    "team_df.head()"
   ]
  },
  {
   "cell_type": "code",
   "execution_count": null,
   "metadata": {},
   "outputs": [],
   "source": [
    "def convert_to_integer(value):\n",
    "    if value.isdigit():\n",
    "        return int(value)\n",
    "    elif str(type(value)) in ['int', 'float']:\n",
    "        return value\n",
    "    return 0\n",
    "\n",
    "def date(cadena):\n",
    "    cadena = str(cadena)\n",
    "    if cadena == 'nan':\n",
    "        return np.nan\n",
    "    patron_1 = '(\\d{1,2})-(\\d{1,2})-(\\d{4}) \\((\\d{1,2}):(\\d{1,2}) h\\)'\n",
    "    match_1 = re.search(patron_1, cadena)\n",
    "    \n",
    "    patron_2 = '(\\d{1,2})-(\\d{1,2})-(\\d{4})'\n",
    "    match_2 = re.search(patron_2, cadena)\n",
    "\n",
    "    if match_1 is not None:\n",
    "        fecha = pd.to_datetime(cadena.strip(), format='%d-%m-%Y (%H:%M h)')\n",
    "    elif match_2 is not None:\n",
    "        indice_inicial = cadena.find('(')\n",
    "        indice_final = cadena.find(')')+1\n",
    "        fecha = cadena.replace(cadena[indice_inicial:indice_final], '')\n",
    "        fecha = pd.to_datetime(fecha.strip(), format='%d-%m-%Y')\n",
    "    else:\n",
    "        return np.nan\n",
    "    return fecha\n",
    "\n",
    "def string_and_strip(value):\n",
    "    if value == 'nan':\n",
    "        return np.nan\n",
    "    else:\n",
    "        return str(value).strip()\n",
    "\n",
    "def encode_decode(cadena):\n",
    "    if str(cadena) == 'nan':\n",
    "        return np.nan\n",
    "    else:\n",
    "        cadena_corregida = str(cadena).encode('latin-1').decode('utf-8')\n",
    "        cadena_corregida = unidecode(cadena_corregida)\n",
    "        return cadena_corregida\n",
    "\n",
    "def stage_string_correction(cadena):\n",
    "    cadena_corregida = cadena.encode('iso-8859-1').decode('utf-8')\n",
    "    cadena_corregida = cadena_corregida.replace('\\r\\n', '').strip()\n",
    "    palabras = cadena_corregida.split()  # Divide la cadena en palabras\n",
    "    cadena_corregida = ' '.join(palabras)  # Une las palabras con un solo espacio como separador\n",
    "    return cadena_corregida\n",
    "\n",
    "def extraer_texto_entre_parentesis(cadena):\n",
    "    if type(cadena) == str:\n",
    "        indice_inicial = cadena.find('(')\n",
    "        indice_final = cadena.find(')')\n",
    "        if indice_inicial >= 0:\n",
    "            texto_entre_parentesis = cadena[indice_inicial + 1 :indice_final]\n",
    "            return texto_entre_parentesis.strip()\n",
    "        else:\n",
    "            return np.nan\n",
    "    else:\n",
    "        return cadena\n",
    "    \n",
    "    \n",
    "def extraer_texto_fuera_de_parentesis(cadena):\n",
    "    if type(cadena) == str:\n",
    "        indice_inicial = cadena.find('(')\n",
    "        indice_final = cadena.find(')')\n",
    "        if indice_inicial >= 0:\n",
    "            texto_fuera_de_parentesis = cadena.replace(cadena[indice_inicial:indice_final + 1], '')\n",
    "            return texto_fuera_de_parentesis.strip()\n",
    "        else:\n",
    "            return cadena.strip()\n",
    "    else:\n",
    "        return cadena\n"
   ]
  },
  {
   "cell_type": "code",
   "execution_count": null,
   "metadata": {},
   "outputs": [],
   "source": [
    "attendence_df_work = attendence_df.copy()"
   ]
  },
  {
   "cell_type": "code",
   "execution_count": null,
   "metadata": {},
   "outputs": [],
   "source": [
    "attendence_df_work['ATTENDANCE'] = attendence_df_work['ATTENDANCE'].apply(convert_to_integer)\n",
    "attendence_df_work['DATE'] = attendence_df_work['DATE'].apply(date)\n",
    "attendence_df_work['PK'] = attendence_df_work['PK'].apply(string_and_strip).apply(encode_decode)\n",
    "attendence_df_work['REFEREE'] = attendence_df_work['REFEREE'].apply(encode_decode)\n",
    "attendence_df_work['STADIUM'] = attendence_df_work['STADIUM'].apply(encode_decode)\n",
    "attendence_df_work['stage'] = attendence_df_work['stage'].apply(stage_string_correction)\n",
    "attendence_df_work['team1'] = attendence_df_work['team1'].apply(encode_decode)\n",
    "attendence_df_work['team2'] = attendence_df_work['team2'].apply(encode_decode)"
   ]
  },
  {
   "cell_type": "code",
   "execution_count": null,
   "metadata": {},
   "outputs": [],
   "source": [
    "attendence_df_work.nlargest(20, columns='ATTENDANCE')"
   ]
  },
  {
   "cell_type": "code",
   "execution_count": null,
   "metadata": {},
   "outputs": [],
   "source": [
    "attendence_df_work.loc[attendence_df['PK'].notnull()]"
   ]
  },
  {
   "cell_type": "code",
   "execution_count": null,
   "metadata": {},
   "outputs": [],
   "source": [
    "goals_df_work = goals_df.copy()\n",
    "goals_df_work['player'] = goals_df_work['player'].apply(encode_decode)"
   ]
  },
  {
   "cell_type": "code",
   "execution_count": null,
   "metadata": {},
   "outputs": [],
   "source": [
    "match_df_work = match_df.copy()\n",
    "\n",
    "match_df_work['team1_name'] = match_df_work['team1'].apply(extraer_texto_entre_parentesis)\n",
    "match_df_work['team2_name'] = match_df_work['team2'].apply(extraer_texto_entre_parentesis)\n",
    "\n",
    "match_df_work['team1'] = match_df_work['team1'].apply(extraer_texto_fuera_de_parentesis)\n",
    "match_df_work['team2'] = match_df_work['team2'].apply(extraer_texto_fuera_de_parentesis)"
   ]
  },
  {
   "cell_type": "code",
   "execution_count": null,
   "metadata": {},
   "outputs": [],
   "source": [
    "match_df_work"
   ]
  },
  {
   "cell_type": "code",
   "execution_count": null,
   "metadata": {},
   "outputs": [],
   "source": [
    "team_df_work = team_df.copy()\n",
    "\n",
    "team_df_work['DOB_num'] = team_df_work['DOB/Age'].apply(extraer_texto_entre_parentesis)\n",
    "team_df_work['DOB/Age'] = team_df_work['DOB/Age'].apply(extraer_texto_fuera_de_parentesis)\n",
    "team_df_work['Age'] = team_df_work['DOB/Age'].apply(extraer_texto_entre_parentesis)\n",
    "team_df_work['DOB/Age'] = team_df_work['DOB/Age'].apply(extraer_texto_fuera_de_parentesis)"
   ]
  },
  {
   "cell_type": "code",
   "execution_count": null,
   "metadata": {},
   "outputs": [],
   "source": [
    "team_df_work "
   ]
  }
 ],
 "metadata": {
  "kernelspec": {
   "display_name": "entorno_1",
   "language": "python",
   "name": "python3"
  },
  "language_info": {
   "codemirror_mode": {
    "name": "ipython",
    "version": 3
   },
   "file_extension": ".py",
   "mimetype": "text/x-python",
   "name": "python",
   "nbconvert_exporter": "python",
   "pygments_lexer": "ipython3",
   "version": "3.9.12"
  },
  "orig_nbformat": 4
 },
 "nbformat": 4,
 "nbformat_minor": 2
}
